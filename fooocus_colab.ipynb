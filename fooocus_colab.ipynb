{
  "cells": [
    {
      "cell_type": "code",
      "execution_count": null,
      "metadata": {
        "id": "VjYy0F2gZIPR"
      },
      "outputs": [],
      "source": [
        "\n",
        "%cd /content\n",
        "!git clone https://github.com/lllyasviel/Fooocus.git\n",
        "%cd /content/Fooocus\n",
        "!python entry_with_update.py --share --always-high-vram --preset realistic\n"
      ]
    },
    {
      "cell_type": "code",
      "source": [
        "import os\n",
        "import time\n",
        "import base64 # Import the base64 module\n",
        "from runwayml import RunwayML\n",
        "\n",
        "# Configuração do cliente RunwayML\n",
        "api_key = \"key_303185cd2597b2871605f9ebf68eb769ce84313c7c40f25ddf39efc3e8ab0561ba489141b7e6d4e146643b32e11365cd8877d92ebe0c7b80805fb1fa133ec800\"  # Substitua pela sua chave de API\n",
        "client = RunwayML(api_key=api_key)\n",
        "\n",
        "# Diretórios de entrada e saída\n",
        "input_dir = \"/content/drive/My Drive/bible_code\"\n",
        "output_video = \"/content/drive/My Drive/bible_animation.mp4\"\n",
        "os.makedirs(output_dir, exist_ok=True)\n",
        "\n",
        "# Função para animar uma imagem\n",
        "def animate_image(image_path, output_path, prompt_text=\"Animação da cena.\"):\n",
        "    with open(image_path, \"rb\") as img_file:\n",
        "        image_data = base64.b64encode(img_file.read()).decode('utf-8')\n",
        "\n",
        "    # Determine image type for data URI prefix\n",
        "    image_type = os.path.splitext(image_path)[1][1:].lower()  # Get extension and convert to lowercase\n",
        "    data_uri_prefix = f\"data:image/{image_type};base64,\"\n",
        "\n",
        "    # Criação da tarefa de animação, including data URI prefix\n",
        "    task = client.image_to_video.create(\n",
        "        model=\"gen3a_turbo\",\n",
        "        prompt_image=data_uri_prefix + image_data,  # Add the prefix here\n",
        "        prompt_text=prompt_text,\n",
        "    )\n",
        "    task_id = task.id\n",
        "\n",
        "    # Aguardar a conclusão da tarefa\n",
        "    while True:\n",
        "        task_status = client.tasks.retrieve(task_id)\n",
        "        if task_status.status in [\"SUCCEEDED\", \"FAILED\"]:\n",
        "            break\n",
        "        time.sleep(10)  # Verifica a cada 10 segundos\n",
        "\n",
        "    if task_status.status == \"SUCCEEDED\":\n",
        "        # Baixar o vídeo gerado\n",
        "        video_url = task_status.output.video\n",
        "        video_data = client._client.get(video_url).content\n",
        "        with open(output_path, \"wb\") as video_file:\n",
        "            video_file.write(video_data)\n",
        "        print(f\"Animação salva em: {output_path}\")\n",
        "    else:\n",
        "        print(f\"Falha ao animar {image_path}\")\n",
        "\n",
        "# Processar todas as imagens na pasta de entrada\n",
        "for i in range(1, 7):\n",
        "    img_filename = f\"scene_{i}.png\"\n",
        "    img_path = os.path.join(input_dir, img_filename)\n",
        "    output_path = os.path.join(output_dir, f\"scene_{i}_animated.mp4\")\n",
        "\n",
        "    if os.path.exists(img_path):\n",
        "        animate_image(img_path, output_path)\n",
        "    else:\n",
        "        print(f\"Imagem não encontrada: {img_path}\")\n",
        "\n",
        "print(\"Processo de animação concluído.\")\n"
      ],
      "metadata": {
        "id": "iF2hmWyNm6gG"
      },
      "execution_count": null,
      "outputs": []
    }
  ],
  "metadata": {
    "accelerator": "GPU",
    "colab": {
      "gpuType": "T4",
      "provenance": []
    },
    "kernelspec": {
      "display_name": "Python 3",
      "name": "python3"
    },
    "language_info": {
      "name": "python"
    }
  },
  "nbformat": 4,
  "nbformat_minor": 0
}